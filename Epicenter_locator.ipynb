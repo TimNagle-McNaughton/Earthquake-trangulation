{
 "cells": [
  {
   "cell_type": "code",
   "execution_count": 1,
   "id": "53a7b6f9",
   "metadata": {},
   "outputs": [],
   "source": [
    "# imports\n",
    "import os\n",
    "import math\n",
    "import matplotlib.pyplot as plt\n",
    "from statistics import mode"
   ]
  },
  {
   "cell_type": "markdown",
   "id": "5a684d81",
   "metadata": {},
   "source": [
    "Each seismometer reports its x and y position and the time (measured from some arbitrary t0) the earthquake was detected. We will assume that the p-waves move at exactly 6 km/s."
   ]
  },
  {
   "cell_type": "code",
   "execution_count": 2,
   "id": "77ee2101",
   "metadata": {},
   "outputs": [],
   "source": [
    "# get some test data\n",
    "x0 = 8.382353226\n",
    "y0 = -58.003720814\n",
    "t0 = 12.860754193\n",
    "x1 = -13.590571819\n",
    "y1 = 73.976069096\n",
    "t1 = 22.847488548\n",
    "x2 = 77.291172370\n",
    "y2 = 7.508764456\n",
    "t2 = 5.767809783\n",
    "v = 6"
   ]
  },
  {
   "cell_type": "markdown",
   "id": "4abd0977",
   "metadata": {},
   "source": [
    "Methods derived from Paul Bourke's excellent [website](http://paulbourke.net/geometry/circlesphere/)."
   ]
  },
  {
   "cell_type": "code",
   "execution_count": 3,
   "id": "dcbe0d46",
   "metadata": {},
   "outputs": [],
   "source": [
    "# write a function to find the epicenter\n",
    "def find_earthquake_center(x0, y0, t0, x1, y1, t1, x2, y2, t2, v):\n",
    "    \n",
    "    # convert velocities and times to distance\n",
    "    r0 = v*t0\n",
    "    r1 = v*t1\n",
    "    r2 = v*t2\n",
    "    \n",
    "    # get the distance between the circles\n",
    "    d_01 = math.sqrt((x1-x0)**2 + (y1-y0)**2)\n",
    "    d_12 = math.sqrt((x2-x1)**2 + (y2-y1)**2)\n",
    "    \n",
    "    # handle any non-intersecting cases\n",
    "    if d_01 > r0+r1 or d_12 > r1+r2:\n",
    "        print(\"Not all cicles intersect (None)\")\n",
    "        return None\n",
    "    if d_01 < abs(r0-r1) or d_12 < abs(r1-r2):\n",
    "        print(\"Not all cicles intersect (Contained)\")\n",
    "        return None\n",
    "    if (d_01 == 0 and r0 == r1) or (d_12 == 1 and r1 == r2):\n",
    "        print(\"Not all cicles intersect (Coincident)\")\n",
    "        return None\n",
    "    \n",
    "    # if the first circles do intersect\n",
    "    else:\n",
    "        \n",
    "        # calculate the first and second legs for the first circle pair\n",
    "        a0 = (r0**2-r1**2+d_01**2)/(2*d_01)\n",
    "        h0 = math.sqrt(r0**2-a0**2)\n",
    "        \n",
    "        # find the midpoint for the first circle pair\n",
    "        mid_x0 = x0+a0*(x1-x0)/d_01   \n",
    "        mid_y0 = y0+a0*(y1-y0)/d_01 \n",
    "               \n",
    "        # return the first set of intersections\n",
    "        int_x0 = mid_x0+h0*(y1-y0)/d_01     \n",
    "        int_y0 = mid_y0-h0*(x1-x0)/d_01 \n",
    "        int_x1 = mid_x0-h0*(y1-y0)/d_01\n",
    "        int_y1 = mid_y0+h0*(x1-x0)/d_01\n",
    "                \n",
    "        # calculate the first and second legs for the second circle pair\n",
    "        a1 = (r1**2-r2**2+d_12**2)/(2*d_12)\n",
    "        h1 = math.sqrt(r1**2-a1**2)\n",
    "        \n",
    "        # find the midpoint for the second circle pair\n",
    "        mid_x1 = x1+a1*(x2-x1)/d_12   \n",
    "        mid_y1 = y1+a1*(y2-y1)/d_12 \n",
    "        \n",
    "        # return the second set of intersections\n",
    "        int_x2 = mid_x1+h1*(y2-y1)/d_12     \n",
    "        int_y2 = mid_y1-h1*(x2-x1)/d_12 \n",
    "        int_x3 = mid_x1-h1*(y2-y1)/d_12\n",
    "        int_y3 = mid_y1+h1*(x2-x1)/d_12\n",
    "        \n",
    "        # list the intersecting coordinates\n",
    "        int_x_coords = [int_x0, int_x1, int_x2, int_x3]\n",
    "        int_y_coords = [int_y0, int_y1, int_y2, int_y3]\n",
    "        \n",
    "        # get the epicenter\n",
    "        epicenter = [mode(int_x_coords), mode(int_y_coords)]\n",
    "    \n",
    "    # plot the circles\n",
    "    circle_0_plot = plt.Circle((x0, y0), r0, color='r', fill=False)\n",
    "    circle_1_plot = plt.Circle((x1, y1), r1, color='g', fill=False)\n",
    "    circle_2_plot = plt.Circle((x2, y2), r2, color='b', fill=False)\n",
    "\n",
    "    # get some rought plot limits\n",
    "    x_coords =  [x0-r0, x0+r0, x1-r1, x1+r1, x2-r2, x2+r2]\n",
    "    y_coords = [y0-r0, y0+r0, y1-r1, y1+r1, y2-r2, y2+r2]\n",
    "    x_min = 1.1*min(x_coords)\n",
    "    x_max = 1.1*max(x_coords)\n",
    "    y_min = 1.1*min(y_coords)\n",
    "    y_max = 1.1*max(y_coords)\n",
    "    \n",
    "    # set up the plot\n",
    "    fig, ax = plt.subplots(tight_layout=\"\")\n",
    "    ax.axis('off')\n",
    "    ax.set_xlim((x_min, x_max))\n",
    "    ax.set_ylim((y_min, y_max))\n",
    "    \n",
    "    # add the circles\n",
    "    ax.add_artist(circle_0_plot)\n",
    "    ax.add_artist(circle_1_plot)\n",
    "    ax.add_artist(circle_2_plot)\n",
    "    \n",
    "    # plot the centroids\n",
    "    plt.plot([x0], [y0], '.', color='r', label='Seismometer #0')\n",
    "    plt.plot([x1], [y1], '.', color='g', label='Seismometer #1')\n",
    "    plt.plot([x2], [y2], '.', color='b', label='Seismometer #2')\n",
    "    \n",
    "    # plot all of the intersections, and the epicenter\n",
    "    plt.plot([int_x0], [int_y0], '.', color='k', label='Intersection')\n",
    "    plt.plot([int_x1], [int_y1], '.', color='k')\n",
    "    plt.plot([int_x2], [int_y2], '.', color='k')\n",
    "    plt.plot([int_x3], [int_y3], '.', color='k')\n",
    "    plt.plot(epicenter[0], epicenter[1], 'o', color='k', label='Epicenter')\n",
    "    \n",
    "    # make sure it's square-ish for the circles\n",
    "    plt.gca().set_aspect('equal', adjustable='box')\n",
    "    \n",
    "    # show the legend\n",
    "    plt.legend(bbox_to_anchor=[1.3, .85], loc='center')\n",
    "    \n",
    "    # save figure\n",
    "    plt.savefig(os.path.dirname(\"Epicenter_locator.ipynb\") + \"epicenter_example.png\", dpi=300)"
   ]
  },
  {
   "cell_type": "markdown",
   "id": "42e3dac9",
   "metadata": {},
   "source": [
    "Let's apply the test and visualize the results."
   ]
  },
  {
   "cell_type": "code",
   "execution_count": 4,
   "id": "230719fc",
   "metadata": {
    "scrolled": false
   },
   "outputs": [
    {
     "data": {
      "image/png": "[encoded data removed]",
      "text/plain": [
       "<Figure size 432x288 with 1 Axes>"
      ]
     },
     "metadata": {
      "needs_background": "light"
     },
     "output_type": "display_data"
    }
   ],
   "source": [
    "find_earthquake_center(x0, y0, t0, x1, y1, t1, x2, y2, t2, v)"
   ]
  }
 ],
 "metadata": {
  "kernelspec": {
   "display_name": "Python 3",
   "language": "python",
   "name": "python3"
  },
  "language_info": {
   "codemirror_mode": {
    "name": "ipython",
    "version": 3
   },
   "file_extension": ".py",
   "mimetype": "text/x-python",
   "name": "python",
   "nbconvert_exporter": "python",
   "pygments_lexer": "ipython3",
   "version": "3.8.8"
  }
 },
 "nbformat": 4,
 "nbformat_minor": 5
}
